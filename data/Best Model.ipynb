{
 "cells": [
  {
   "cell_type": "code",
   "execution_count": 15,
   "metadata": {},
   "outputs": [],
   "source": [
    "#import libraries\n",
    "import numpy as np\n",
    "import pandas as pd\n",
    "import seaborn as sns\n",
    "import matplotlib.pyplot as plt\n",
    "\n",
    "#import evaluation metrics\n",
    "from sklearn.metrics import confusion_matrix, accuracy_score, recall_score, roc_auc_score\n",
    "\n",
    "##import function to split data\n",
    "from sklearn.model_selection import train_test_split\n",
    "\n",
    "##import tools for prepocessing\n",
    "from sklearn.preprocessing import OneHotEncoder, StandardScaler\n",
    "from sklearn.compose import ColumnTransformer\n",
    "\n",
    "#classifiers\n",
    "from sklearn.neighbors import KNeighborsClassifier\n",
    "from sklearn.linear_model import LogisticRegression\n",
    "from sklearn.ensemble import GradientBoostingClassifier"
   ]
  },
  {
   "cell_type": "code",
   "execution_count": 16,
   "metadata": {},
   "outputs": [],
   "source": [
    "#display all rows and columns when printing dataframes\n",
    "pd.set_option('display.max_rows', None)\n",
    "pd.set_option('display.max_columns', None)"
   ]
  },
  {
   "cell_type": "code",
   "execution_count": 17,
   "metadata": {},
   "outputs": [],
   "source": [
    "#load the cleaned training dataset from a CSV file into a pandas dataframe\n",
    "df = pd.read_csv('../data/training_data_cleaned.csv')"
   ]
  },
  {
   "cell_type": "code",
   "execution_count": 18,
   "metadata": {},
   "outputs": [],
   "source": [
    "#separate features and target\n",
    "target_col = 'DiagPeriodL90D'\n",
    "X = df.drop(target_col, axis=1)\n",
    "y = df[target_col]"
   ]
  },
  {
   "cell_type": "code",
   "execution_count": 19,
   "metadata": {},
   "outputs": [],
   "source": [
    "#all categorical columns in the feature set (X) by selecting columns with data types 'object' or 'category'\n",
    "categorical_cols = X.select_dtypes(include=['object', 'category']).columns.tolist()"
   ]
  },
  {
   "cell_type": "code",
   "execution_count": 20,
   "metadata": {},
   "outputs": [],
   "source": [
    "##apply one-hot encoding to categorical columns (dropping the first category) while leaving other columns unchanged\n",
    "ct = ColumnTransformer(\n",
    "    transformers=[\n",
    "        ('onehot', OneHotEncoder(drop='first', sparse_output=False), categorical_cols)\n",
    "    ],\n",
    "    remainder='passthrough'  # leave other columns unchanged\n",
    ")"
   ]
  },
  {
   "cell_type": "code",
   "execution_count": 21,
   "metadata": {},
   "outputs": [],
   "source": [
    "#fit & transform features\n",
    "X_encoded = ct.fit_transform(X)"
   ]
  },
  {
   "cell_type": "code",
   "execution_count": 22,
   "metadata": {},
   "outputs": [],
   "source": [
    "#get encoded feature names and combine with numerical columns for the final dataframe\n",
    "ohe = ct.named_transformers_['onehot']\n",
    "ohe_features = ohe.get_feature_names_out(categorical_cols)\n",
    "numerical_cols = [col for col in X.columns if col not in categorical_cols]\n",
    "feature_names = list(ohe_features) + numerical_cols\n",
    "\n",
    "X_encoded_df = pd.DataFrame(X_encoded, columns=feature_names)\n"
   ]
  },
  {
   "cell_type": "code",
   "execution_count": 23,
   "metadata": {},
   "outputs": [],
   "source": [
    "#train-test split\n",
    "X_train, X_test, y_train, y_test = train_test_split(\n",
    "    X_encoded_df, y, test_size=0.2, random_state=42, stratify=y\n",
    ")"
   ]
  },
  {
   "cell_type": "code",
   "execution_count": 24,
   "metadata": {},
   "outputs": [],
   "source": [
    "#scale features for models\n",
    "scaler = StandardScaler()\n",
    "X_train_scaled = scaler.fit_transform(X_train)\n",
    "X_test_scaled = scaler.transform(X_test)\n"
   ]
  },
  {
   "cell_type": "code",
   "execution_count": 25,
   "metadata": {},
   "outputs": [],
   "source": [
    "#dictionary of classification models\n",
    "models = {\n",
    "    'KNN': KNeighborsClassifier(n_neighbors=5),\n",
    "    'Logistic Regression': LogisticRegression(max_iter=1000, random_state=42),\n",
    "    'Gradient Boosting': GradientBoostingClassifier(random_state=42),\n",
    "}\n"
   ]
  },
  {
   "cell_type": "code",
   "execution_count": 26,
   "metadata": {},
   "outputs": [
    {
     "name": "stdout",
     "output_type": "stream",
     "text": [
      "\n",
      " KNN \n",
      "-------------------------\n",
      "Accuracy:  0.58\n",
      "Recall:    0.54\n",
      "ROC AUC:   0.55\n",
      "\n",
      " Logistic Regression \n",
      "-------------------------\n",
      "Accuracy:  0.61\n",
      "Recall:    0.54\n",
      "ROC AUC:   0.61\n",
      "\n",
      " Gradient Boosting \n",
      "-------------------------\n",
      "Accuracy:  0.63\n",
      "Recall:    0.55\n",
      "ROC AUC:   0.64\n"
     ]
    }
   ],
   "source": [
    "for name, model in models.items():\n",
    "    print(f\"\\n {name} \")\n",
    "    print('-----'*5)\n",
    "\n",
    "    #scaled data only for KNN and Logistic Regression\n",
    "    if name in ['KNN', 'Logistic Regression']:\n",
    "        model.fit(X_train_scaled, y_train)\n",
    "        y_pred = model.predict(X_test_scaled)\n",
    "        y_proba = model.predict_proba(X_test_scaled)[:, 1]\n",
    "    else:\n",
    "        model.fit(X_train, y_train)\n",
    "        y_pred = model.predict(X_test)\n",
    "        y_proba = model.predict_proba(X_test)[:, 1]\n",
    "\n",
    "    #confusion matrix\n",
    "    print(\"Accuracy: \", round(accuracy_score(y_test, y_pred), 2))\n",
    "    print(\"Recall:   \", round(recall_score(y_test, y_pred, average='macro'), 2))\n",
    "    print(\"ROC AUC:  \", round(roc_auc_score(y_test, y_proba), 2))\n"
   ]
  },
  {
   "cell_type": "code",
   "execution_count": 27,
   "metadata": {},
   "outputs": [
    {
     "data": {
      "image/png": "[encoded data removed]",
      "text/plain": [
       "<Figure size 640x480 with 2 Axes>"
      ]
     },
     "metadata": {},
     "output_type": "display_data"
    }
   ],
   "source": [
    "    #display confusion matrix for the best model only\n",
    "    cm = confusion_matrix(y_test, y_pred)\n",
    "    sns.heatmap(cm, annot=True, fmt='d', cmap='YlGnBu')\n",
    "    plt.title(f\"{name} - Confusion Matrix\")\n",
    "    plt.xlabel(\"Predicted\")\n",
    "    plt.ylabel(\"Actual\")\n",
    "    plt.show()\n"
   ]
  }
 ],
 "metadata": {
  "kernelspec": {
   "display_name": "Python 3",
   "language": "python",
   "name": "python3"
  },
  "language_info": {
   "codemirror_mode": {
    "name": "ipython",
    "version": 3
   },
   "file_extension": ".py",
   "mimetype": "text/x-python",
   "name": "python",
   "nbconvert_exporter": "python",
   "pygments_lexer": "ipython3",
   "version": "3.11.3"
  }
 },
 "nbformat": 4,
 "nbformat_minor": 2
}
